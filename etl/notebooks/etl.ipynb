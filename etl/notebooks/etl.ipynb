{
 "cells": [
  {
   "cell_type": "code",
   "execution_count": 20,
   "metadata": {
    "collapsed": true
   },
   "outputs": [],
   "source": [
    "import os\n",
    "import os.path as osp\n",
    "import numpy as np\n",
    "import pandas as pd"
   ]
  },
  {
   "cell_type": "code",
   "execution_count": 15,
   "metadata": {
    "collapsed": true
   },
   "outputs": [],
   "source": [
    "from ddf_utils.str import to_concept_id"
   ]
  },
  {
   "cell_type": "code",
   "execution_count": 4,
   "metadata": {
    "collapsed": true
   },
   "outputs": [],
   "source": [
    "source_dir = '../source'"
   ]
  },
  {
   "cell_type": "code",
   "execution_count": 5,
   "metadata": {},
   "outputs": [
    {
     "data": {
      "text/plain": [
       "['.gitignore',\n",
       " 'CAIT Country CO2 Emissions.csv',\n",
       " 'CAIT Country GHG Emissions.csv',\n",
       " 'CAIT Country Socio-Economic Data.csv',\n",
       " 'License.txt']"
      ]
     },
     "execution_count": 5,
     "metadata": {},
     "output_type": "execute_result"
    }
   ],
   "source": [
    "os.listdir(source_dir)"
   ]
  },
  {
   "cell_type": "code",
   "execution_count": 120,
   "metadata": {},
   "outputs": [],
   "source": [
    "co2 = pd.read_csv(osp.join(source_dir, 'CAIT Country CO2 Emissions.csv'), header=None, encoding='latin1')\n",
    "ghg = pd.read_csv(osp.join(source_dir, 'CAIT Country GHG Emissions.csv'), header=None, encoding='latin1')\n",
    "soc = pd.read_csv(osp.join(source_dir, 'CAIT Country Socio-Economic Data.csv'), header=None, encoding='latin1')"
   ]
  },
  {
   "cell_type": "code",
   "execution_count": 12,
   "metadata": {},
   "outputs": [
    {
     "data": {
      "text/html": [
       "<div>\n",
       "<table border=\"1\" class=\"dataframe\">\n",
       "  <thead>\n",
       "    <tr style=\"text-align: right;\">\n",
       "      <th></th>\n",
       "      <th>0</th>\n",
       "      <th>1</th>\n",
       "      <th>2</th>\n",
       "    </tr>\n",
       "  </thead>\n",
       "  <tbody>\n",
       "    <tr>\n",
       "      <th>0</th>\n",
       "      <td>Cite as: CAIT Climate Data Explorer. 2017. Was...</td>\n",
       "      <td>NaN</td>\n",
       "      <td>NaN</td>\n",
       "    </tr>\n",
       "    <tr>\n",
       "      <th>1</th>\n",
       "      <td>Country</td>\n",
       "      <td>Year</td>\n",
       "      <td>Total CO2 Emissions Excluding Land-Use Change ...</td>\n",
       "    </tr>\n",
       "    <tr>\n",
       "      <th>2</th>\n",
       "      <td>Afghanistan</td>\n",
       "      <td>1850</td>\n",
       "      <td>NaN</td>\n",
       "    </tr>\n",
       "    <tr>\n",
       "      <th>3</th>\n",
       "      <td>Albania</td>\n",
       "      <td>1850</td>\n",
       "      <td>NaN</td>\n",
       "    </tr>\n",
       "    <tr>\n",
       "      <th>4</th>\n",
       "      <td>Algeria</td>\n",
       "      <td>1850</td>\n",
       "      <td>NaN</td>\n",
       "    </tr>\n",
       "  </tbody>\n",
       "</table>\n",
       "</div>"
      ],
      "text/plain": [
       "                                                   0     1  \\\n",
       "0  Cite as: CAIT Climate Data Explorer. 2017. Was...   NaN   \n",
       "1                                            Country  Year   \n",
       "2                                        Afghanistan  1850   \n",
       "3                                            Albania  1850   \n",
       "4                                            Algeria  1850   \n",
       "\n",
       "                                                   2  \n",
       "0                                                NaN  \n",
       "1  Total CO2 Emissions Excluding Land-Use Change ...  \n",
       "2                                                NaN  \n",
       "3                                                NaN  \n",
       "4                                                NaN  "
      ]
     },
     "execution_count": 12,
     "metadata": {},
     "output_type": "execute_result"
    }
   ],
   "source": [
    "co2.head(5)"
   ]
  },
  {
   "cell_type": "code",
   "execution_count": 13,
   "metadata": {},
   "outputs": [
    {
     "data": {
      "text/html": [
       "<div>\n",
       "<table border=\"1\" class=\"dataframe\">\n",
       "  <thead>\n",
       "    <tr style=\"text-align: right;\">\n",
       "      <th></th>\n",
       "      <th>0</th>\n",
       "      <th>1</th>\n",
       "      <th>2</th>\n",
       "      <th>3</th>\n",
       "      <th>4</th>\n",
       "      <th>5</th>\n",
       "      <th>6</th>\n",
       "      <th>7</th>\n",
       "      <th>8</th>\n",
       "      <th>9</th>\n",
       "      <th>...</th>\n",
       "      <th>12</th>\n",
       "      <th>13</th>\n",
       "      <th>14</th>\n",
       "      <th>15</th>\n",
       "      <th>16</th>\n",
       "      <th>17</th>\n",
       "      <th>18</th>\n",
       "      <th>19</th>\n",
       "      <th>20</th>\n",
       "      <th>21</th>\n",
       "    </tr>\n",
       "  </thead>\n",
       "  <tbody>\n",
       "    <tr>\n",
       "      <th>0</th>\n",
       "      <td>Cite as: CAIT Climate Data Explorer. 2017. Was...</td>\n",
       "      <td>NaN</td>\n",
       "      <td>NaN</td>\n",
       "      <td>NaN</td>\n",
       "      <td>NaN</td>\n",
       "      <td>NaN</td>\n",
       "      <td>NaN</td>\n",
       "      <td>NaN</td>\n",
       "      <td>NaN</td>\n",
       "      <td>NaN</td>\n",
       "      <td>...</td>\n",
       "      <td>NaN</td>\n",
       "      <td>NaN</td>\n",
       "      <td>NaN</td>\n",
       "      <td>NaN</td>\n",
       "      <td>NaN</td>\n",
       "      <td>NaN</td>\n",
       "      <td>NaN</td>\n",
       "      <td>NaN</td>\n",
       "      <td>NaN</td>\n",
       "      <td>NaN</td>\n",
       "    </tr>\n",
       "    <tr>\n",
       "      <th>1</th>\n",
       "      <td>NaN</td>\n",
       "      <td>NaN</td>\n",
       "      <td>Total GHG</td>\n",
       "      <td>NaN</td>\n",
       "      <td>Emissions by Gas excluding LUCF</td>\n",
       "      <td>NaN</td>\n",
       "      <td>NaN</td>\n",
       "      <td>NaN</td>\n",
       "      <td>Emissions by Gas including LUCF</td>\n",
       "      <td>NaN</td>\n",
       "      <td>...</td>\n",
       "      <td>NaN</td>\n",
       "      <td>NaN</td>\n",
       "      <td>NaN</td>\n",
       "      <td>NaN</td>\n",
       "      <td>NaN</td>\n",
       "      <td>Emissions by Energy Sub-Sector</td>\n",
       "      <td>NaN</td>\n",
       "      <td>NaN</td>\n",
       "      <td>NaN</td>\n",
       "      <td>NaN</td>\n",
       "    </tr>\n",
       "    <tr>\n",
       "      <th>2</th>\n",
       "      <td>Country</td>\n",
       "      <td>Year</td>\n",
       "      <td>Total GHG Emissions Excluding Land-Use Change ...</td>\n",
       "      <td>Total GHG Emissions Including Land-Use Change ...</td>\n",
       "      <td>Total CO2 (excluding Land-Use Change and Fores...</td>\n",
       "      <td>Total CH4 (MtCO2e)</td>\n",
       "      <td>Total N2O (MtCO2e)</td>\n",
       "      <td>Total F-Gas (MtCO2e)</td>\n",
       "      <td>Total CO2 (including Land-Use Change and Fores...</td>\n",
       "      <td>Total CH4 (including Land-Use Change and Fores...</td>\n",
       "      <td>...</td>\n",
       "      <td>Industrial Processes (MtCO2e)</td>\n",
       "      <td>Agriculture (MtCO2e)</td>\n",
       "      <td>Waste (MtCO2e)</td>\n",
       "      <td>Land-Use Change and Forestry (MtCO2)</td>\n",
       "      <td>Bunker Fuels (MtCO2)</td>\n",
       "      <td>Electricity/Heat (MtCO2)</td>\n",
       "      <td>Manufacturing/Construction (MtCO2)</td>\n",
       "      <td>Transportation (MtCO2)</td>\n",
       "      <td>Other Fuel Combustion (MtCO2e)</td>\n",
       "      <td>Fugitive Emissions (MtCO2e)</td>\n",
       "    </tr>\n",
       "    <tr>\n",
       "      <th>3</th>\n",
       "      <td>Afghanistan</td>\n",
       "      <td>1990</td>\n",
       "      <td>15.21284765</td>\n",
       "      <td>15.21284765</td>\n",
       "      <td>2.915024</td>\n",
       "      <td>9.311588607</td>\n",
       "      <td>2.98405482</td>\n",
       "      <td>0.002180228</td>\n",
       "      <td>2.915024</td>\n",
       "      <td>9.311588607</td>\n",
       "      <td>...</td>\n",
       "      <td>0.057140228</td>\n",
       "      <td>7.3427099</td>\n",
       "      <td>4.038953624</td>\n",
       "      <td>0</td>\n",
       "      <td>NaN</td>\n",
       "      <td>NaN</td>\n",
       "      <td>NaN</td>\n",
       "      <td>NaN</td>\n",
       "      <td>NaN</td>\n",
       "      <td>1.242219903</td>\n",
       "    </tr>\n",
       "    <tr>\n",
       "      <th>4</th>\n",
       "      <td>Afghanistan</td>\n",
       "      <td>1991</td>\n",
       "      <td>15.28643902</td>\n",
       "      <td>15.28643902</td>\n",
       "      <td>2.684445333</td>\n",
       "      <td>9.516186524</td>\n",
       "      <td>3.082194099</td>\n",
       "      <td>0.00361306</td>\n",
       "      <td>2.684445333</td>\n",
       "      <td>9.516186524</td>\n",
       "      <td>...</td>\n",
       "      <td>0.05857306</td>\n",
       "      <td>7.6310272</td>\n",
       "      <td>4.220035859</td>\n",
       "      <td>0</td>\n",
       "      <td>NaN</td>\n",
       "      <td>NaN</td>\n",
       "      <td>NaN</td>\n",
       "      <td>NaN</td>\n",
       "      <td>NaN</td>\n",
       "      <td>1.020850897</td>\n",
       "    </tr>\n",
       "  </tbody>\n",
       "</table>\n",
       "<p>5 rows × 22 columns</p>\n",
       "</div>"
      ],
      "text/plain": [
       "                                                  0     1   \\\n",
       "0  Cite as: CAIT Climate Data Explorer. 2017. Was...   NaN   \n",
       "1                                                NaN   NaN   \n",
       "2                                            Country  Year   \n",
       "3                                        Afghanistan  1990   \n",
       "4                                        Afghanistan  1991   \n",
       "\n",
       "                                                  2   \\\n",
       "0                                                NaN   \n",
       "1                                          Total GHG   \n",
       "2  Total GHG Emissions Excluding Land-Use Change ...   \n",
       "3                                        15.21284765   \n",
       "4                                        15.28643902   \n",
       "\n",
       "                                                  3   \\\n",
       "0                                                NaN   \n",
       "1                                                NaN   \n",
       "2  Total GHG Emissions Including Land-Use Change ...   \n",
       "3                                        15.21284765   \n",
       "4                                        15.28643902   \n",
       "\n",
       "                                                  4                   5   \\\n",
       "0                                                NaN                 NaN   \n",
       "1                    Emissions by Gas excluding LUCF                 NaN   \n",
       "2  Total CO2 (excluding Land-Use Change and Fores...  Total CH4 (MtCO2e)   \n",
       "3                                           2.915024         9.311588607   \n",
       "4                                        2.684445333         9.516186524   \n",
       "\n",
       "                   6                     7   \\\n",
       "0                 NaN                   NaN   \n",
       "1                 NaN                   NaN   \n",
       "2  Total N2O (MtCO2e)  Total F-Gas (MtCO2e)   \n",
       "3          2.98405482           0.002180228   \n",
       "4         3.082194099            0.00361306   \n",
       "\n",
       "                                                  8   \\\n",
       "0                                                NaN   \n",
       "1                    Emissions by Gas including LUCF   \n",
       "2  Total CO2 (including Land-Use Change and Fores...   \n",
       "3                                           2.915024   \n",
       "4                                        2.684445333   \n",
       "\n",
       "                                                  9   \\\n",
       "0                                                NaN   \n",
       "1                                                NaN   \n",
       "2  Total CH4 (including Land-Use Change and Fores...   \n",
       "3                                        9.311588607   \n",
       "4                                        9.516186524   \n",
       "\n",
       "              ...                                          12  \\\n",
       "0             ...                                         NaN   \n",
       "1             ...                                         NaN   \n",
       "2             ...               Industrial Processes (MtCO2e)   \n",
       "3             ...                                 0.057140228   \n",
       "4             ...                                  0.05857306   \n",
       "\n",
       "                     13              14                                    15  \\\n",
       "0                   NaN             NaN                                   NaN   \n",
       "1                   NaN             NaN                                   NaN   \n",
       "2  Agriculture (MtCO2e)  Waste (MtCO2e)  Land-Use Change and Forestry (MtCO2)   \n",
       "3             7.3427099     4.038953624                                     0   \n",
       "4             7.6310272     4.220035859                                     0   \n",
       "\n",
       "                     16                              17  \\\n",
       "0                   NaN                             NaN   \n",
       "1                   NaN  Emissions by Energy Sub-Sector   \n",
       "2  Bunker Fuels (MtCO2)        Electricity/Heat (MtCO2)   \n",
       "3                   NaN                             NaN   \n",
       "4                   NaN                             NaN   \n",
       "\n",
       "                                   18                      19  \\\n",
       "0                                 NaN                     NaN   \n",
       "1                                 NaN                     NaN   \n",
       "2  Manufacturing/Construction (MtCO2)  Transportation (MtCO2)   \n",
       "3                                 NaN                     NaN   \n",
       "4                                 NaN                     NaN   \n",
       "\n",
       "                               20                           21  \n",
       "0                             NaN                          NaN  \n",
       "1                             NaN                          NaN  \n",
       "2  Other Fuel Combustion (MtCO2e)  Fugitive Emissions (MtCO2e)  \n",
       "3                             NaN                  1.242219903  \n",
       "4                             NaN                  1.020850897  \n",
       "\n",
       "[5 rows x 22 columns]"
      ]
     },
     "execution_count": 13,
     "metadata": {},
     "output_type": "execute_result"
    }
   ],
   "source": [
    "ghg.head(5)"
   ]
  },
  {
   "cell_type": "code",
   "execution_count": 14,
   "metadata": {},
   "outputs": [
    {
     "data": {
      "text/html": [
       "<div>\n",
       "<table border=\"1\" class=\"dataframe\">\n",
       "  <thead>\n",
       "    <tr style=\"text-align: right;\">\n",
       "      <th></th>\n",
       "      <th>0</th>\n",
       "      <th>1</th>\n",
       "      <th>2</th>\n",
       "      <th>3</th>\n",
       "      <th>4</th>\n",
       "      <th>5</th>\n",
       "    </tr>\n",
       "  </thead>\n",
       "  <tbody>\n",
       "    <tr>\n",
       "      <th>0</th>\n",
       "      <td>Cite as: CAIT Climate Data Explorer. 2017. Was...</td>\n",
       "      <td>NaN</td>\n",
       "      <td>NaN</td>\n",
       "      <td>NaN</td>\n",
       "      <td>NaN</td>\n",
       "      <td>NaN</td>\n",
       "    </tr>\n",
       "    <tr>\n",
       "      <th>1</th>\n",
       "      <td>Country</td>\n",
       "      <td>Year</td>\n",
       "      <td>Population (People)</td>\n",
       "      <td>GDP-PPP (Million Intl$ (2011))</td>\n",
       "      <td>GDP-USD (Million US$ (2010))</td>\n",
       "      <td>Energy Use (Thous. tonnes oil eq. (ktoe))</td>\n",
       "    </tr>\n",
       "    <tr>\n",
       "      <th>2</th>\n",
       "      <td>Afghanistan</td>\n",
       "      <td>1960</td>\n",
       "      <td>8994793</td>\n",
       "      <td>NaN</td>\n",
       "      <td>NaN</td>\n",
       "      <td>NaN</td>\n",
       "    </tr>\n",
       "    <tr>\n",
       "      <th>3</th>\n",
       "      <td>Albania</td>\n",
       "      <td>1960</td>\n",
       "      <td>1608800</td>\n",
       "      <td>NaN</td>\n",
       "      <td>NaN</td>\n",
       "      <td>NaN</td>\n",
       "    </tr>\n",
       "    <tr>\n",
       "      <th>4</th>\n",
       "      <td>Algeria</td>\n",
       "      <td>1960</td>\n",
       "      <td>11124892</td>\n",
       "      <td>NaN</td>\n",
       "      <td>27442.86463</td>\n",
       "      <td>NaN</td>\n",
       "    </tr>\n",
       "  </tbody>\n",
       "</table>\n",
       "</div>"
      ],
      "text/plain": [
       "                                                   0     1  \\\n",
       "0  Cite as: CAIT Climate Data Explorer. 2017. Was...   NaN   \n",
       "1                                            Country  Year   \n",
       "2                                        Afghanistan  1960   \n",
       "3                                            Albania  1960   \n",
       "4                                            Algeria  1960   \n",
       "\n",
       "                     2                               3  \\\n",
       "0                  NaN                             NaN   \n",
       "1  Population (People)  GDP-PPP (Million Intl$ (2011))   \n",
       "2              8994793                             NaN   \n",
       "3              1608800                             NaN   \n",
       "4             11124892                             NaN   \n",
       "\n",
       "                              4                                          5  \n",
       "0                           NaN                                        NaN  \n",
       "1  GDP-USD (Million US$ (2010))  Energy Use (Thous. tonnes oil eq. (ktoe))  \n",
       "2                           NaN                                        NaN  \n",
       "3                           NaN                                        NaN  \n",
       "4                   27442.86463                                        NaN  "
      ]
     },
     "execution_count": 14,
     "metadata": {},
     "output_type": "execute_result"
    }
   ],
   "source": [
    "soc.head(5)"
   ]
  },
  {
   "cell_type": "code",
   "execution_count": null,
   "metadata": {
    "collapsed": true
   },
   "outputs": [],
   "source": []
  },
  {
   "cell_type": "code",
   "execution_count": 26,
   "metadata": {
    "scrolled": true
   },
   "outputs": [
    {
     "data": {
      "text/plain": [
       "array(['Country', 'Year',\n",
       "       'Total GHG Emissions Excluding Land-Use Change and Forestry (MtCO2e)',\n",
       "       'Total GHG Emissions Including Land-Use Change and Forestry (MtCO?e?)',\n",
       "       'Total CO2 (excluding Land-Use Change and Forestry) (MtCO2)',\n",
       "       'Total CH4 (MtCO2e)', 'Total N2O (MtCO2e)', 'Total F-Gas (MtCO2e)',\n",
       "       'Total CO2 (including Land-Use Change and Forestry) (MtCO2)',\n",
       "       'Total CH4 (including Land-Use Change and Forestry) (MtCO2e)',\n",
       "       'Total N2O (including Land-Use Change and Forestry) (MtCO2e)',\n",
       "       'Energy (MtCO2e)', 'Industrial Processes (MtCO2e)',\n",
       "       'Agriculture (MtCO2e)', 'Waste (MtCO2e)',\n",
       "       'Land-Use Change and Forestry (MtCO2)', 'Bunker Fuels (MtCO2)',\n",
       "       'Electricity/Heat (MtCO2)', 'Manufacturing/Construction (MtCO2)',\n",
       "       'Transportation (MtCO2)', 'Other Fuel Combustion (MtCO2e)',\n",
       "       'Fugitive Emissions (MtCO2e)'], dtype=object)"
      ]
     },
     "execution_count": 26,
     "metadata": {},
     "output_type": "execute_result"
    }
   ],
   "source": [
    "ghg.ix[2].values"
   ]
  },
  {
   "cell_type": "code",
   "execution_count": 21,
   "metadata": {
    "collapsed": true
   },
   "outputs": [],
   "source": [
    "all_concepts = np.r_[co2.ix[1], ghg.ix[2], soc.ix[1]]"
   ]
  },
  {
   "cell_type": "code",
   "execution_count": 24,
   "metadata": {},
   "outputs": [
    {
     "data": {
      "text/plain": [
       "{'Agriculture (MtCO2e)',\n",
       " 'Bunker Fuels (MtCO2)',\n",
       " 'Country',\n",
       " 'Electricity/Heat (MtCO2)',\n",
       " 'Energy (MtCO2e)',\n",
       " 'Energy Use (Thous. tonnes oil eq. (ktoe))',\n",
       " 'Fugitive Emissions (MtCO2e)',\n",
       " 'GDP-PPP (Million Intl$ (2011))',\n",
       " 'GDP-USD (Million US$ (2010))',\n",
       " 'Industrial Processes (MtCO2e)',\n",
       " 'Land-Use Change and Forestry (MtCO2)',\n",
       " 'Manufacturing/Construction (MtCO2)',\n",
       " 'Other Fuel Combustion (MtCO2e)',\n",
       " 'Population (People)',\n",
       " 'Total CH4 (MtCO2e)',\n",
       " 'Total CH4 (including Land-Use Change and Forestry) (MtCO2e)',\n",
       " 'Total CO2 (excluding Land-Use Change and Forestry) (MtCO2)',\n",
       " 'Total CO2 (including Land-Use Change and Forestry) (MtCO2)',\n",
       " 'Total CO2 Emissions Excluding Land-Use Change and Forestry (MtCO2)',\n",
       " 'Total F-Gas (MtCO2e)',\n",
       " 'Total GHG Emissions Excluding Land-Use Change and Forestry (MtCO2e)',\n",
       " 'Total GHG Emissions Including Land-Use Change and Forestry (MtCO?e?)',\n",
       " 'Total N2O (MtCO2e)',\n",
       " 'Total N2O (including Land-Use Change and Forestry) (MtCO2e)',\n",
       " 'Transportation (MtCO2)',\n",
       " 'Waste (MtCO2e)',\n",
       " 'Year'}"
      ]
     },
     "execution_count": 24,
     "metadata": {},
     "output_type": "execute_result"
    }
   ],
   "source": [
    "set(all_concepts)"
   ]
  },
  {
   "cell_type": "code",
   "execution_count": 28,
   "metadata": {},
   "outputs": [
    {
     "data": {
      "text/plain": [
       "array(['Country', 'Year',\n",
       "       'Total GHG Emissions Excluding Land-Use Change and Forestry (MtCO2e)',\n",
       "       'Total GHG Emissions Including Land-Use Change and Forestry (MtCO?e?)',\n",
       "       'Total CO2 (excluding Land-Use Change and Forestry) (MtCO2)',\n",
       "       'Total CH4 (MtCO2e)', 'Total N2O (MtCO2e)', 'Total F-Gas (MtCO2e)',\n",
       "       'Total CO2 (including Land-Use Change and Forestry) (MtCO2)',\n",
       "       'Total CH4 (including Land-Use Change and Forestry) (MtCO2e)',\n",
       "       'Total N2O (including Land-Use Change and Forestry) (MtCO2e)',\n",
       "       'Energy (MtCO2e)', 'Industrial Processes (MtCO2e)',\n",
       "       'Agriculture (MtCO2e)', 'Waste (MtCO2e)',\n",
       "       'Land-Use Change and Forestry (MtCO2)', 'Bunker Fuels (MtCO2)',\n",
       "       'Electricity/Heat (MtCO2)', 'Manufacturing/Construction (MtCO2)',\n",
       "       'Transportation (MtCO2)', 'Other Fuel Combustion (MtCO2e)',\n",
       "       'Fugitive Emissions (MtCO2e)'], dtype=object)"
      ]
     },
     "execution_count": 28,
     "metadata": {},
     "output_type": "execute_result"
    }
   ],
   "source": [
    "ghg.ix[2].values"
   ]
  },
  {
   "cell_type": "code",
   "execution_count": 33,
   "metadata": {},
   "outputs": [
    {
     "data": {
      "text/plain": [
       "array(['country', 'year',\n",
       "       'total_ghg_emissions_excluding_land_use_change_and_forestry_mtco2e',\n",
       "       'total_ghg_emissions_including_land_use_change_and_forestry_mtco_e',\n",
       "       'total_co2_excluding_land_use_change_and_forestry_mtco2',\n",
       "       'total_ch4_mtco2e', 'total_n2o_mtco2e', 'total_f_gas_mtco2e',\n",
       "       'total_co2_including_land_use_change_and_forestry_mtco2',\n",
       "       'total_ch4_including_land_use_change_and_forestry_mtco2e',\n",
       "       'total_n2o_including_land_use_change_and_forestry_mtco2e',\n",
       "       'energy_mtco2e', 'industrial_processes_mtco2e',\n",
       "       'agriculture_mtco2e', 'waste_mtco2e',\n",
       "       'land_use_change_and_forestry_mtco2', 'bunker_fuels_mtco2',\n",
       "       'electricity_heat_mtco2', 'manufacturing_construction_mtco2',\n",
       "       'transportation_mtco2', 'other_fuel_combustion_mtco2e',\n",
       "       'fugitive_emissions_mtco2e'], dtype=object)"
      ]
     },
     "execution_count": 33,
     "metadata": {},
     "output_type": "execute_result"
    }
   ],
   "source": [
    "ghg.ix[2].map(to_concept_id).values"
   ]
  },
  {
   "cell_type": "code",
   "execution_count": null,
   "metadata": {
    "collapsed": true
   },
   "outputs": [],
   "source": []
  },
  {
   "cell_type": "code",
   "execution_count": 57,
   "metadata": {},
   "outputs": [],
   "source": [
    "# concepts\n",
    "\n",
    "cdf = pd.DataFrame(list(set(all_concepts)), columns=['name'])"
   ]
  },
  {
   "cell_type": "code",
   "execution_count": 58,
   "metadata": {},
   "outputs": [],
   "source": [
    "cdf['concept'] = cdf['name'].map(to_concept_id)"
   ]
  },
  {
   "cell_type": "code",
   "execution_count": 59,
   "metadata": {},
   "outputs": [],
   "source": [
    "cdf['concept_type'] = 'measure'"
   ]
  },
  {
   "cell_type": "code",
   "execution_count": 60,
   "metadata": {},
   "outputs": [],
   "source": [
    "cdf = cdf.set_index('concept')\n",
    "cdf.ix['country', 'concept_type'] = 'entity_domain'\n",
    "cdf.ix['year', 'concept_type'] = 'time'"
   ]
  },
  {
   "cell_type": "code",
   "execution_count": 98,
   "metadata": {
    "collapsed": true
   },
   "outputs": [],
   "source": [
    "cdf.ix['name'] = ['Name', 'string']"
   ]
  },
  {
   "cell_type": "code",
   "execution_count": 99,
   "metadata": {
    "collapsed": true
   },
   "outputs": [],
   "source": [
    "cdf.to_csv('../../ddf--concepts.csv')"
   ]
  },
  {
   "cell_type": "code",
   "execution_count": null,
   "metadata": {
    "collapsed": true
   },
   "outputs": [],
   "source": []
  },
  {
   "cell_type": "code",
   "execution_count": null,
   "metadata": {
    "collapsed": true
   },
   "outputs": [],
   "source": []
  },
  {
   "cell_type": "code",
   "execution_count": 121,
   "metadata": {},
   "outputs": [],
   "source": [
    "# country\n",
    "\n",
    "co2.columns = co2.ix[1].map(to_concept_id)\n",
    "\n",
    "co2 = co2.ix[2:]"
   ]
  },
  {
   "cell_type": "code",
   "execution_count": 122,
   "metadata": {},
   "outputs": [],
   "source": [
    "ghg.columns = ghg.ix[2].map(to_concept_id)\n",
    "\n",
    "ghg = ghg.ix[3:]"
   ]
  },
  {
   "cell_type": "code",
   "execution_count": 123,
   "metadata": {},
   "outputs": [],
   "source": [
    "soc.columns = soc.ix[1].map(to_concept_id)\n",
    "\n",
    "soc = soc.ix[2:]"
   ]
  },
  {
   "cell_type": "code",
   "execution_count": null,
   "metadata": {
    "collapsed": true
   },
   "outputs": [],
   "source": []
  },
  {
   "cell_type": "code",
   "execution_count": 124,
   "metadata": {
    "collapsed": true
   },
   "outputs": [],
   "source": [
    "all_countries = np.r_[co2.country, ghg.country, soc.country]"
   ]
  },
  {
   "cell_type": "code",
   "execution_count": 125,
   "metadata": {},
   "outputs": [],
   "source": [
    "country = pd.DataFrame(all_countries, columns=['name'])"
   ]
  },
  {
   "cell_type": "code",
   "execution_count": 126,
   "metadata": {
    "collapsed": true
   },
   "outputs": [],
   "source": [
    "country = country.drop_duplicates()"
   ]
  },
  {
   "cell_type": "code",
   "execution_count": 127,
   "metadata": {},
   "outputs": [],
   "source": [
    "country['country'] = country.name.map(to_concept_id)"
   ]
  },
  {
   "cell_type": "code",
   "execution_count": 128,
   "metadata": {},
   "outputs": [
    {
     "data": {
      "text/html": [
       "<div>\n",
       "<table border=\"1\" class=\"dataframe\">\n",
       "  <thead>\n",
       "    <tr style=\"text-align: right;\">\n",
       "      <th></th>\n",
       "      <th>name</th>\n",
       "      <th>country</th>\n",
       "    </tr>\n",
       "  </thead>\n",
       "  <tbody>\n",
       "    <tr>\n",
       "      <th>0</th>\n",
       "      <td>Afghanistan</td>\n",
       "      <td>afghanistan</td>\n",
       "    </tr>\n",
       "    <tr>\n",
       "      <th>1</th>\n",
       "      <td>Albania</td>\n",
       "      <td>albania</td>\n",
       "    </tr>\n",
       "    <tr>\n",
       "      <th>2</th>\n",
       "      <td>Algeria</td>\n",
       "      <td>algeria</td>\n",
       "    </tr>\n",
       "    <tr>\n",
       "      <th>3</th>\n",
       "      <td>Angola</td>\n",
       "      <td>angola</td>\n",
       "    </tr>\n",
       "    <tr>\n",
       "      <th>4</th>\n",
       "      <td>Antigua &amp; Barbuda</td>\n",
       "      <td>antigua_barbuda</td>\n",
       "    </tr>\n",
       "  </tbody>\n",
       "</table>\n",
       "</div>"
      ],
      "text/plain": [
       "                name          country\n",
       "0        Afghanistan      afghanistan\n",
       "1            Albania          albania\n",
       "2            Algeria          algeria\n",
       "3             Angola           angola\n",
       "4  Antigua & Barbuda  antigua_barbuda"
      ]
     },
     "execution_count": 128,
     "metadata": {},
     "output_type": "execute_result"
    }
   ],
   "source": [
    "country.head()"
   ]
  },
  {
   "cell_type": "code",
   "execution_count": 129,
   "metadata": {
    "collapsed": true
   },
   "outputs": [],
   "source": [
    "country.to_csv('../../ddf--entities--country.csv', index=False)"
   ]
  },
  {
   "cell_type": "code",
   "execution_count": null,
   "metadata": {
    "collapsed": true
   },
   "outputs": [],
   "source": []
  },
  {
   "cell_type": "code",
   "execution_count": null,
   "metadata": {
    "collapsed": true
   },
   "outputs": [],
   "source": []
  },
  {
   "cell_type": "code",
   "execution_count": 130,
   "metadata": {},
   "outputs": [],
   "source": [
    "# datapoints\n",
    "\n",
    "co2['country'] = co2['country'].map(to_concept_id)\n",
    "ghg['country'] = ghg['country'].map(to_concept_id)\n",
    "soc['country'] = soc['country'].map(to_concept_id)"
   ]
  },
  {
   "cell_type": "code",
   "execution_count": 131,
   "metadata": {},
   "outputs": [],
   "source": [
    "co2 = co2.set_index(['country', 'year'])\n",
    "ghg = ghg.set_index(['country', 'year'])\n",
    "soc = soc.set_index(['country', 'year'])"
   ]
  },
  {
   "cell_type": "code",
   "execution_count": 137,
   "metadata": {
    "collapsed": true
   },
   "outputs": [],
   "source": [
    "from ddf_utils.str import format_float_sigfig, format_float_digits"
   ]
  },
  {
   "cell_type": "code",
   "execution_count": 138,
   "metadata": {},
   "outputs": [],
   "source": [
    "for c in co2:\n",
    "    d = co2[c].copy()\n",
    "    d = d.map(lambda x: format_float_digits(x, 5))\n",
    "    (d.dropna()\n",
    "     .reset_index()\n",
    "     .to_csv('../../ddf--datapoints--{}--by--country--year.csv'.format(c), index=False))"
   ]
  },
  {
   "cell_type": "code",
   "execution_count": 139,
   "metadata": {
    "collapsed": true
   },
   "outputs": [],
   "source": [
    "for c in ghg:\n",
    "    d = ghg[c].copy()\n",
    "    d = d.map(lambda x: format_float_digits(x, 5))\n",
    "    (d.dropna()\n",
    "     .reset_index()\n",
    "     .to_csv('../../ddf--datapoints--{}--by--country--year.csv'.format(c), index=False))"
   ]
  },
  {
   "cell_type": "code",
   "execution_count": 140,
   "metadata": {
    "collapsed": true
   },
   "outputs": [],
   "source": [
    "for c in soc:\n",
    "    d = soc[c].copy()\n",
    "    d = d.map(lambda x: format_float_digits(x, 5))\n",
    "    (d.dropna()\n",
    "     .reset_index()\n",
    "     .to_csv('../../ddf--datapoints--{}--by--country--year.csv'.format(c), index=False))"
   ]
  },
  {
   "cell_type": "code",
   "execution_count": null,
   "metadata": {
    "collapsed": true
   },
   "outputs": [],
   "source": []
  },
  {
   "cell_type": "code",
   "execution_count": 92,
   "metadata": {
    "collapsed": true
   },
   "outputs": [],
   "source": [
    "from ddf_utils.index import get_datapackage"
   ]
  },
  {
   "cell_type": "code",
   "execution_count": 135,
   "metadata": {
    "scrolled": false
   },
   "outputs": [],
   "source": [
    "_ = get_datapackage('../../', to_disk=True)"
   ]
  },
  {
   "cell_type": "code",
   "execution_count": null,
   "metadata": {
    "collapsed": true
   },
   "outputs": [],
   "source": []
  },
  {
   "cell_type": "code",
   "execution_count": null,
   "metadata": {
    "collapsed": true
   },
   "outputs": [],
   "source": []
  },
  {
   "cell_type": "code",
   "execution_count": 136,
   "metadata": {
    "scrolled": false
   },
   "outputs": [
    {
     "name": "stdout",
     "output_type": "stream",
     "text": [
      "[\n",
      "{}]\n",
      "\n"
     ]
    }
   ],
   "source": [
    "!validate-ddf ../../"
   ]
  },
  {
   "cell_type": "code",
   "execution_count": 97,
   "metadata": {
    "collapsed": true
   },
   "outputs": [],
   "source": [
    "!open ../"
   ]
  },
  {
   "cell_type": "code",
   "execution_count": null,
   "metadata": {
    "collapsed": true
   },
   "outputs": [],
   "source": []
  }
 ],
 "metadata": {
  "kernelspec": {
   "display_name": "Python 3",
   "language": "python",
   "name": "python3"
  },
  "language_info": {
   "codemirror_mode": {
    "name": "ipython",
    "version": 3
   },
   "file_extension": ".py",
   "mimetype": "text/x-python",
   "name": "python",
   "nbconvert_exporter": "python",
   "pygments_lexer": "ipython3",
   "version": "3.6.0"
  }
 },
 "nbformat": 4,
 "nbformat_minor": 2
}
